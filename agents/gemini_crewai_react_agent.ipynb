{
  "nbformat": 4,
  "nbformat_minor": 0,
  "metadata": {
    "colab": {
      "provenance": [],
      "authorship_tag": "ABX9TyMc/U25gQD55UMGGYt83pNQ",
      "include_colab_link": true
    },
    "kernelspec": {
      "name": "python3",
      "display_name": "Python 3"
    },
    "language_info": {
      "name": "python"
    }
  },
  "cells": [
    {
      "cell_type": "markdown",
      "metadata": {
        "id": "view-in-github",
        "colab_type": "text"
      },
      "source": [
        "<a href=\"https://colab.research.google.com/github/Dhananjay-97/notebooks/blob/main/agents/gemini_crewai_react_agent.ipynb\" target=\"_parent\"><img src=\"https://colab.research.google.com/assets/colab-badge.svg\" alt=\"Open In Colab\"/></a>"
      ]
    },
    {
      "cell_type": "markdown",
      "source": [
        "# Customer Support Analysis with Gemini 2.5 Pro and CrewAI"
      ],
      "metadata": {
        "id": "NrRkvmDRHISi"
      }
    },
    {
      "cell_type": "markdown",
      "source": [
        "CrewAI is a framework for orchestrating autonomous AI agents that collaborate to achieve complex goals. It lets you define agents by specifying roles, goals, and backstories, and then define tasks for them.\n",
        "\n",
        "This example demonstrates how to build a multi-agent system for analyzing customer support data to identify issues and propose process improvements using Gemini 2.5 Pro, generating a report intended to be read by a Chief Operating Officer (COO).\n",
        "\n",
        "The guide will show you how to create a \"crew\" of AI agents that can do the following tasks:\n",
        "\n",
        "1.   Fetch and analyze customer support data (simulated in this example).\n",
        "2.   Identify recurring problems and process bottlenecks.\n",
        "3.   Suggest actionable improvements.\n",
        "4.   Compile the findings into a concise report suitable for a COO.\n",
        "\n",
        "\n"
      ],
      "metadata": {
        "id": "y2NqzCJsHQxG"
      }
    },
    {
      "cell_type": "code",
      "execution_count": null,
      "metadata": {
        "id": "3XuWIKRCG_aF"
      },
      "outputs": [],
      "source": [
        "! pip install \"crewai[tools]\""
      ]
    },
    {
      "cell_type": "markdown",
      "source": [
        "Set your Gemini API key as an environment variable named GEMINI_API_KEY, then configure CrewAI to use the Gemini 2.5 Pro model."
      ],
      "metadata": {
        "id": "t3doMxjFH8ne"
      }
    },
    {
      "cell_type": "code",
      "source": [
        "import os\n",
        "from crewai import LLM\n",
        "\n",
        "# Read your API key from the environment variable\n",
        "from google.colab import userdata\n",
        "gemini_api_key = userdata.get('GEMINI_API_KEY')\n",
        "\n",
        "# Use Gemini 2.5 Pro Experimental model\n",
        "gemini_llm = LLM(\n",
        "    model='gemini/gemini-2.5-pro',\n",
        "    api_key=gemini_api_key,\n",
        "    temperature=0.0  # Lower temperature for more consistent results.\n",
        ")"
      ],
      "metadata": {
        "id": "buDBfp8KHwo9"
      },
      "execution_count": null,
      "outputs": []
    },
    {
      "cell_type": "markdown",
      "source": [
        "# Define components\n",
        "\n",
        "CrewAI applications are built using Tools, Agents, Tasks, and the Crew itself. Each of these is explained in the following sections."
      ],
      "metadata": {
        "id": "gFpw0GYmIK3h"
      }
    },
    {
      "cell_type": "markdown",
      "source": [
        "# Tools\n",
        "Tools are capabilities that agents can use to interact with the outside world or perform specific actions. Here, you define a placeholder tool to simulate fetching customer support data. In a real application, you would connect to a database, API or file system. For more information on tools, see the CrewAI tools guide."
      ],
      "metadata": {
        "id": "7_2y4icEIRTA"
      }
    },
    {
      "cell_type": "code",
      "source": [
        "from crewai.tools import BaseTool\n",
        "\n",
        "# Placeholder tool for fetching customer support data\n",
        "class CustomerSupportDataTool(BaseTool):\n",
        "    name: str = \"Customer Support Data Fetcher\"\n",
        "    description: str = (\n",
        "      \"Fetches recent customer support interactions, tickets, and feedback. \"\n",
        "      \"Returns a summary string.\")\n",
        "\n",
        "    def _run(self, argument: str) -> str:\n",
        "        # In a real scenario, this would query a database or API.\n",
        "        # For this example, return simulated data.\n",
        "        print(f\"--- Fetching data for query: {argument} ---\")\n",
        "        return (\n",
        "            \"\"\"Recent Support Data Summary:\n",
        "- 50 tickets related to 'login issues'. High resolution time (avg 48h).\n",
        "- 30 tickets about 'billing discrepancies'. Mostly resolved within 12h.\n",
        "- 20 tickets on 'feature requests'. Often closed without resolution.\n",
        "- Frequent feedback mentions 'confusing user interface' for password reset.\n",
        "- High volume of calls related to 'account verification process'.\n",
        "- Sentiment analysis shows growing frustration with 'login issues' resolution time.\n",
        "- Support agent notes indicate difficulty reproducing 'login issues'.\"\"\"\n",
        "        )\n",
        "\n",
        "support_data_tool = CustomerSupportDataTool()"
      ],
      "metadata": {
        "id": "02zaHNvLIHIu"
      },
      "execution_count": null,
      "outputs": []
    },
    {
      "cell_type": "markdown",
      "source": [
        "# Agents\n",
        "Agents are the individual AI workers in your crew. Each agent has a specific role, goal, backstory, assigned llm, and optional tools. For more information on agents, see the CrewAI agents guide."
      ],
      "metadata": {
        "id": "RDh4uWDDIXcJ"
      }
    },
    {
      "cell_type": "code",
      "source": [
        "from crewai import Agent\n",
        "\n",
        "# Agent 1: Data analyst\n",
        "data_analyst = Agent(\n",
        "    role='Customer Support Data Analyst',\n",
        "    goal='Analyze customer support data to identify trends, recurring issues, and key pain points.',\n",
        "    backstory=(\n",
        "        \"\"\"You are an expert data analyst specializing in customer support operations.\n",
        "        Your strength lies in identifying patterns and quantifying problems from raw support data.\"\"\"\n",
        "    ),\n",
        "    verbose=True,\n",
        "    allow_delegation=False,  # This agent focuses on its specific task\n",
        "    tools=[support_data_tool],  # Assign the data fetching tool\n",
        "    llm=gemini_llm  # Use the configured Gemini LLM\n",
        ")\n",
        "\n",
        "# Agent 2: Process optimizer\n",
        "process_optimizer = Agent(\n",
        "    role='Process Optimization Specialist',\n",
        "    goal='Identify bottlenecks and inefficiencies in current support processes based on the data analysis. Propose actionable improvements.',\n",
        "    backstory=(\n",
        "        \"\"\"You are a specialist in optimizing business processes, particularly in customer support.\n",
        "        You excel at pinpointing root causes of delays and inefficiencies and suggesting concrete solutions.\"\"\"\n",
        "    ),\n",
        "    verbose=True,\n",
        "    allow_delegation=False,\n",
        "    # No tools needed, this agent relies on the context provided by data_analyst.\n",
        "    llm=gemini_llm\n",
        ")\n",
        "\n",
        "# Agent 3: Report writer\n",
        "report_writer = Agent(\n",
        "    role='Executive Report Writer',\n",
        "    goal='Compile the analysis and improvement suggestions into a concise, clear, and actionable report for the COO.',\n",
        "    backstory=(\n",
        "        \"\"\"You are a skilled writer adept at creating executive summaries and reports.\n",
        "        You focus on clarity, conciseness, and highlighting the most critical information and recommendations for senior leadership.\"\"\"\n",
        "    ),\n",
        "    verbose=True,\n",
        "    allow_delegation=False,\n",
        "    llm=gemini_llm\n",
        ")"
      ],
      "metadata": {
        "id": "xuDoQCYuIU4e"
      },
      "execution_count": null,
      "outputs": []
    },
    {
      "cell_type": "markdown",
      "source": [
        "# Tasks\n",
        "Tasks define the specific assignments for the agents. Each task has a description, expected_output, and is assigned to an agent. Tasks are run sequentially by default and include the context of the previous task. For more information on tasks, see the CrewAI tasks guide."
      ],
      "metadata": {
        "id": "ln5GlEc6IdB1"
      }
    },
    {
      "cell_type": "code",
      "source": [
        "from crewai import Task\n",
        "\n",
        "# Task 1: Analyze data\n",
        "analysis_task = Task(\n",
        "    description=(\n",
        "        \"\"\"Fetch and analyze the latest customer support interaction data (tickets, feedback, call logs)\n",
        "        focusing on the last quarter. Identify the top 3-5 recurring issues, quantify their frequency\n",
        "        and impact (e.g., resolution time, customer sentiment). Use the Customer Support Data Fetcher tool.\"\"\"\n",
        "    ),\n",
        "    expected_output=(\n",
        "        \"\"\"A summary report detailing the key findings from the customer support data analysis, including:\n",
        "- Top 3-5 recurring issues with frequency.\n",
        "- Average resolution times for these issues.\n",
        "- Key customer pain points mentioned in feedback.\n",
        "- Any notable trends in sentiment or support agent observations.\"\"\"\n",
        "    ),\n",
        "    agent=data_analyst  # Assign task to the data_analyst agent\n",
        ")\n",
        "\n",
        "# Task 2: Identify bottlenecks and suggest improvements\n",
        "optimization_task = Task(\n",
        "    description=(\n",
        "        \"\"\"Based on the data analysis report provided by the Data Analyst, identify the primary bottlenecks\n",
        "        in the support processes contributing to the identified issues (especially the top recurring ones).\n",
        "        Propose 2-3 concrete, actionable process improvements to address these bottlenecks.\n",
        "        Consider potential impact and ease of implementation.\"\"\"\n",
        "    ),\n",
        "    expected_output=(\n",
        "        \"\"\"A concise list identifying the main process bottlenecks (e.g., lack of documentation for agents,\n",
        "        complex escalation path, UI issues) linked to the key problems.\n",
        "A list of 2-3 specific, actionable recommendations for process improvement\n",
        "(e.g., update agent knowledge base, simplify password reset UI, implement proactive monitoring).\"\"\"\n",
        "    ),\n",
        "    agent=process_optimizer  # Assign task to the process_optimizer agent\n",
        "    # This task implicitly uses the output of analysis_task as context\n",
        ")\n",
        "\n",
        "# Task 3: Compile COO report\n",
        "report_task = Task(\n",
        "    description=(\n",
        "        \"\"\"Compile the findings from the Data Analyst and the recommendations from the Process Optimization Specialist\n",
        "        into a single, concise executive report for the COO. The report should clearly state:\n",
        "1. The most critical customer support issues identified (with brief data points).\n",
        "2. The key process bottlenecks causing these issues.\n",
        "3. The recommended process improvements.\n",
        "Ensure the report is easy to understand, focuses on actionable insights, and is formatted professionally.\"\"\"\n",
        "    ),\n",
        "    expected_output=(\n",
        "        \"\"\"A well-structured executive report (max 1 page) summarizing the critical support issues,\n",
        "        underlying process bottlenecks, and clear, actionable recommendations for the COO.\n",
        "        Use clear headings and bullet points.\"\"\"\n",
        "    ),\n",
        "    agent=report_writer  # Assign task to the report_writer agent\n",
        ")"
      ],
      "metadata": {
        "id": "L2-e0TCoIal9"
      },
      "execution_count": null,
      "outputs": []
    },
    {
      "cell_type": "markdown",
      "source": [
        "# Crew\n",
        "The Crew brings the agents and tasks together, defining the workflow process (such as \"sequential\")."
      ],
      "metadata": {
        "id": "PbVXNKP1Iipw"
      }
    },
    {
      "cell_type": "code",
      "source": [
        "from crewai import Crew, Process\n",
        "\n",
        "# Define the crew with agents, tasks, and process\n",
        "support_analysis_crew = Crew(\n",
        "    agents=[data_analyst, process_optimizer, report_writer],\n",
        "    tasks=[analysis_task, optimization_task, report_task],\n",
        "    process=Process.sequential,  # Tasks will run sequentially in the order defined\n",
        "    verbose=True\n",
        ")"
      ],
      "metadata": {
        "id": "a8bbRd8bImW-"
      },
      "execution_count": null,
      "outputs": []
    },
    {
      "cell_type": "markdown",
      "source": [
        "# Run the Crew\n",
        "Finally, kick off the crew execution with any necessary inputs."
      ],
      "metadata": {
        "id": "F4n6iAcpIo0q"
      }
    },
    {
      "cell_type": "code",
      "source": [
        "# Start the crew's work\n",
        "print(\"--- Starting Customer Support Analysis Crew ---\")\n",
        "# The 'inputs' dictionary provides initial context if needed by the first task.\n",
        "# In this case, the tool simulates data fetching regardless of the input.\n",
        "result = support_analysis_crew.kickoff(inputs={'data_query': 'last quarter support data'})\n",
        "\n",
        "print(\"--- Crew Execution Finished ---\")\n",
        "print(\"--- Final Report for COO ---\")\n",
        "print(result)"
      ],
      "metadata": {
        "id": "7kBUAb8EImvy"
      },
      "execution_count": null,
      "outputs": []
    },
    {
      "cell_type": "markdown",
      "source": [
        "The script will now execute. The Data Analyst will use the tool, the Process Optimizer will analyze the findings, and the Report Writer will compile the final report, which is then printed to the console. The verbose=True setting will show the detailed thought process and actions of each agent."
      ],
      "metadata": {
        "id": "MLS42rOMIv6L"
      }
    },
    {
      "cell_type": "code",
      "source": [],
      "metadata": {
        "id": "R1UEd8zcItZa"
      },
      "execution_count": null,
      "outputs": []
    }
  ]
}