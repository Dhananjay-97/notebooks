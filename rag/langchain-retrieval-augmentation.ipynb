{
  "cells": [
    {
      "cell_type": "markdown",
      "metadata": {
        "id": "view-in-github",
        "colab_type": "text"
      },
      "source": [
        "<a href=\"https://colab.research.google.com/github/Dhananjay-97/notebooks/blob/main/rag/langchain-retrieval-augmentation.ipynb\" target=\"_parent\"><img src=\"https://colab.research.google.com/assets/colab-badge.svg\" alt=\"Open In Colab\"/></a>"
      ]
    },
    {
      "cell_type": "markdown",
      "metadata": {
        "id": "SMFUgtvbFeLQ"
      },
      "source": [
        "[![Open In Colab](https://colab.research.google.com/assets/colab-badge.svg)](https://colab.research.google.com/github/pinecone-io/examples/blob/master/docs/langchain-retrieval-augmentation.ipynb) [![Open nbviewer](https://raw.githubusercontent.com/pinecone-io/examples/master/assets/nbviewer-shield.svg)](https://nbviewer.org/github/pinecone-io/examples/blob/master/docs/langchain-retrieval-augmentation.ipynb)"
      ]
    },
    {
      "cell_type": "markdown",
      "metadata": {
        "id": "v0to-QXCQjsm"
      },
      "source": [
        "# Retrieval-Augmented Generation with Pinecone, LangChain and OpenAI\n",
        "\n",
        "## Fixing LLMs that Hallucinate\n",
        "\n",
        "In this notebook, you'll learn one of the most common applications of retrieval-augmented generation: giving large language models access to up-to-date information.\n",
        "\n",
        "\n",
        "### Demo Data: Pinecone Documentation\n",
        "\n",
        "A great example to use RAG is when augmenting LLMs with information that may not exist in their training data. This could private data, internal company information, or data that has been updated post a training cutoff. In our case, many modern LLMs are rained on Pinecone data that has since been updated, such as release notes, quickstart guides, blog posts, docs, and code.\n",
        "\n",
        "In this example, we'll show the differences in generation from OpenAI's LLMs when asked about Pinecone's release notes! We'll orchestrate our RAG workflow using LangChain, a popular framework for AI applications."
      ]
    },
    {
      "cell_type": "code",
      "execution_count": 1,
      "metadata": {
        "colab": {
          "base_uri": "https://localhost:8080/"
        },
        "id": "VpMvHAYRQf9N",
        "outputId": "b577d1ac-2fba-4076-ee8d-a34ce70b3c1a"
      },
      "outputs": [
        {
          "output_type": "stream",
          "name": "stdout",
          "text": [
            "\u001b[2K     \u001b[90m━━━━━━━━━━━━━━━━━━━━━━━━━━━━━━━━━━━━━━━━\u001b[0m \u001b[32m61.0/61.0 kB\u001b[0m \u001b[31m3.4 MB/s\u001b[0m eta \u001b[36m0:00:00\u001b[0m\n",
            "\u001b[2K   \u001b[90m━━━━━━━━━━━━━━━━━━━━━━━━━━━━━━━━━━━━━━━━\u001b[0m \u001b[32m1.3/1.3 MB\u001b[0m \u001b[31m27.3 MB/s\u001b[0m eta \u001b[36m0:00:00\u001b[0m\n",
            "\u001b[2K   \u001b[90m━━━━━━━━━━━━━━━━━━━━━━━━━━━━━━━━━━━━━━━━\u001b[0m \u001b[32m46.3/46.3 kB\u001b[0m \u001b[31m3.7 MB/s\u001b[0m eta \u001b[36m0:00:00\u001b[0m\n",
            "\u001b[2K   \u001b[90m━━━━━━━━━━━━━━━━━━━━━━━━━━━━━━━━━━━━━━━━\u001b[0m \u001b[32m18.3/18.3 MB\u001b[0m \u001b[31m49.4 MB/s\u001b[0m eta \u001b[36m0:00:00\u001b[0m\n",
            "\u001b[2K   \u001b[90m━━━━━━━━━━━━━━━━━━━━━━━━━━━━━━━━━━━━━━━━\u001b[0m \u001b[32m427.3/427.3 kB\u001b[0m \u001b[31m23.4 MB/s\u001b[0m eta \u001b[36m0:00:00\u001b[0m\n",
            "\u001b[2K   \u001b[90m━━━━━━━━━━━━━━━━━━━━━━━━━━━━━━━━━━━━━━━━\u001b[0m \u001b[32m70.4/70.4 kB\u001b[0m \u001b[31m5.7 MB/s\u001b[0m eta \u001b[36m0:00:00\u001b[0m\n",
            "\u001b[2K   \u001b[90m━━━━━━━━━━━━━━━━━━━━━━━━━━━━━━━━━━━━━━━━\u001b[0m \u001b[32m87.5/87.5 kB\u001b[0m \u001b[31m6.2 MB/s\u001b[0m eta \u001b[36m0:00:00\u001b[0m\n",
            "\u001b[2K   \u001b[90m━━━━━━━━━━━━━━━━━━━━━━━━━━━━━━━━━━━━━━━━\u001b[0m \u001b[32m52.2/52.2 kB\u001b[0m \u001b[31m3.4 MB/s\u001b[0m eta \u001b[36m0:00:00\u001b[0m\n",
            "\u001b[2K   \u001b[90m━━━━━━━━━━━━━━━━━━━━━━━━━━━━━━━━━━━━━━━━\u001b[0m \u001b[32m42.3/42.3 kB\u001b[0m \u001b[31m2.9 MB/s\u001b[0m eta \u001b[36m0:00:00\u001b[0m\n",
            "\u001b[2K   \u001b[90m━━━━━━━━━━━━━━━━━━━━━━━━━━━━━━━━━━━━━━━━\u001b[0m \u001b[32m44.3/44.3 kB\u001b[0m \u001b[31m3.1 MB/s\u001b[0m eta \u001b[36m0:00:00\u001b[0m\n",
            "\u001b[?25h\u001b[31mERROR: pip's dependency resolver does not currently take into account all the packages that are installed. This behaviour is the source of the following dependency conflicts.\n",
            "thinc 8.3.6 requires numpy<3.0.0,>=2.0.0, but you have numpy 1.26.4 which is incompatible.\u001b[0m\u001b[31m\n",
            "\u001b[0m"
          ]
        }
      ],
      "source": [
        "!pip install -qU \\\n",
        "    \"langchain[openai]\"\\\n",
        "    langchain-text-splitters==0.3.8 \\\n",
        "    langchain-pinecone==0.2.1 \\\n",
        "    pinecone-notebooks==0.1.1"
      ]
    },
    {
      "cell_type": "markdown",
      "metadata": {
        "id": "NhWnLkHqmeWI"
      },
      "source": [
        "---\n",
        "\n",
        "## Building a Knowledge Base with our Vector Database\n",
        "\n",
        "Building more reliable LLMs tools requires an external _\"Knowledge Base\"_, a database that we can query and update periodically with information.\n",
        "\n",
        "Specifically, we will need to retrieve information that is relevant to our queries. To do this we need to use _\"dense vector embeddings\"_. These can be thought of as numerical representations of the *meaning* behind our sentences.\n",
        "\n",
        "There are many options for creating these dense vectors, like open source [sentence transformers embedding models](https://www.pinecone.io/learn/series/nlp/) or OpenAI's [text-embedding-3-small model](https://platform.openai.com/docs/models/text-embedding-3-small). We will use OpenAI's offering in this example.\n",
        "\n",
        "### Before you begin...\n",
        "\n",
        "Be sure to grab a [free Pinecone account](https://app.pinecone.io/?sessionType=signup) and an OpenAI API key, [located here](https://platform.openai.com/api-keys)!"
      ]
    },
    {
      "cell_type": "code",
      "execution_count": 2,
      "metadata": {
        "id": "MXAStNPoHD7y"
      },
      "outputs": [],
      "source": [
        "## Getting our Dataset:\n",
        "\n",
        "# These are markdown versions of our release notes from 2025 and 2024\n",
        "release_notes_2025 = \"https://docs.pinecone.io/release-notes/2025.md\"\n",
        "release_notes_2024 = \"https://docs.pinecone.io/release-notes/2024.md\"\n"
      ]
    },
    {
      "cell_type": "markdown",
      "metadata": {
        "id": "4AI0WvUGHD7y"
      },
      "source": [
        "## Preprocessing our data\n",
        "\n",
        "We'll use Requests and LangChain to pull down the release notes, and process the associated Markdown. We've used splitters that correspond to the release year, month/year, and features.\n",
        "This will take us from raw Markdown files to LangChain Documents, which we'll embed and store in Pinecone."
      ]
    },
    {
      "cell_type": "code",
      "execution_count": 3,
      "metadata": {
        "id": "EI2iYxq16or9"
      },
      "outputs": [],
      "source": [
        "# We'll grab these urls and parse them using LangChain's textsplitter for markdown\n",
        "from langchain_text_splitters import MarkdownHeaderTextSplitter\n",
        "from langchain_core.documents import Document\n",
        "import requests\n",
        "\n",
        "splitter = MarkdownHeaderTextSplitter(headers_to_split_on=[(\"#\", \"release\"), (\"##\", \"month_year\"), (\"###\", \"feature\")])\n",
        "\n",
        "def download_link(url):\n",
        "    response = requests.get(url)\n",
        "    response.raise_for_status()\n",
        "    return response.text\n",
        "\n",
        "\n",
        "def add_document_metadata(doc, new_metadata):\n",
        "    # returns new documents with updated metadata\n",
        "    old_metadata = doc.metadata\n",
        "    new_metadata = {**old_metadata, **new_metadata}\n",
        "    return Document(page_content=doc.page_content, metadata=new_metadata)\n",
        "\n",
        "\n",
        "def preprocess_pinecone_docs(urls):\n",
        "\n",
        "    pinecone_docs = []\n",
        "    for url in urls:\n",
        "        # download the markdown\n",
        "        response = download_link(url)\n",
        "        split_text = splitter.split_text(response)\n",
        "        # Update metadata to include url as source\n",
        "        split_text = [add_document_metadata(doc, {\"source\": url, \"chunk_num\": num}) for num, doc in enumerate(split_text)]\n",
        "        pinecone_docs.extend(split_text)\n",
        "    return pinecone_docs\n",
        "\n",
        "\n",
        "pinecone_docs = preprocess_pinecone_docs([release_notes_2024,release_notes_2025])"
      ]
    },
    {
      "cell_type": "markdown",
      "metadata": {
        "id": "0Vr_JjidHD7y"
      },
      "source": [
        "Let's take a closer look at one of these notes"
      ]
    },
    {
      "cell_type": "code",
      "execution_count": 4,
      "metadata": {
        "id": "ftEujakOHD7z",
        "outputId": "3fd36121-1a32-4793-85f5-8583a8db82a4",
        "colab": {
          "base_uri": "https://localhost:8080/"
        }
      },
      "outputs": [
        {
          "output_type": "stream",
          "name": "stdout",
          "text": [
            "Document content:  Pinecone Assistant can now [return a JSON response](/guides/assistant/chat-with-assistant#json-response).  \n",
            "***  \n",
            "You can now [create an assistant](/reference/api/2025-01/assistant/create_assistant) in the `eu` region.\n",
            "</Update>  \n",
            "<Update label=\"2024-12-17\" tags={[\"Database\"]}>\n",
            "Document metadata:  {'release': '2024 releases', 'month_year': 'December 2024', 'feature': 'Pinecone Assistant JSON mode and EU region deployment', 'source': 'https://docs.pinecone.io/release-notes/2024.md', 'chunk_num': 2}\n"
          ]
        }
      ],
      "source": [
        "print(\"Document content: \", pinecone_docs[2].page_content)\n",
        "print(\"Document metadata: \", pinecone_docs[2].metadata)"
      ]
    },
    {
      "cell_type": "code",
      "execution_count": 5,
      "metadata": {
        "id": "7-Mt9SwsHD70",
        "outputId": "eae9ae76-af5c-47cb-d870-cc0b79cf99e2",
        "colab": {
          "base_uri": "https://localhost:8080/"
        }
      },
      "outputs": [
        {
          "output_type": "stream",
          "name": "stdout",
          "text": [
            "Document content:  Released [`v2.2.0`](https://github.com/pinecone-io/go-pinecone/releases/tag/v2.2.0) of the [Pinecone Go SDK](/reference/go-sdk). This version adds support for [index tags](/guides/manage-data/manage-indexes#configure-index-tags) when creating or configuring indexes.\n",
            "</Update>\n",
            "Document metadata:  {'release': '2025 releases', 'month_year': 'January 2025', 'feature': 'Released Go SDK v2.2.0', 'source': 'https://docs.pinecone.io/release-notes/2025.md', 'chunk_num': 53}\n"
          ]
        }
      ],
      "source": [
        "print(\"Document content: \", pinecone_docs[-1].page_content)\n",
        "print(\"Document metadata: \", pinecone_docs[-1].metadata)"
      ]
    },
    {
      "cell_type": "markdown",
      "metadata": {
        "id": "8CH7yPZIHD70"
      },
      "source": [
        "## Setting up Pinecone\n"
      ]
    },
    {
      "cell_type": "markdown",
      "metadata": {
        "id": "gd21xGNrHD70"
      },
      "source": [
        "Next, we'll setup our API keys. For notebooks in Colab environments, we've included a handy block that helps set a Pinecone API key in your environment. In all other contexts, it's sufficient to save your Pinecone and OpenAI keys in your local environment.\n",
        "\n",
        "Run the next two blocks and enter your Pinecone and OpenAI keys as needed:"
      ]
    },
    {
      "cell_type": "code",
      "execution_count": 6,
      "metadata": {
        "id": "KBR3pxWOHD70",
        "outputId": "2c954e95-1de6-42e5-c9a3-7dec25b1108e",
        "colab": {
          "base_uri": "https://localhost:8080/",
          "height": 247
        }
      },
      "outputs": [
        {
          "output_type": "display_data",
          "data": {
            "text/plain": [
              "<IPython.core.display.HTML object>"
            ],
            "text/html": [
              "<script type=\"text/javascript\" src=\"https://connect.pinecone.io/embed.js\"></script>"
            ]
          },
          "metadata": {}
        }
      ],
      "source": [
        "\n",
        "import os\n",
        "from getpass import getpass\n",
        "\n",
        "def get_pinecone_api_key():\n",
        "    \"\"\"\n",
        "    Get Pinecone API key from environment variable or prompt user for input.\n",
        "    Returns the API key as a string.\n",
        "\n",
        "    Only necessary for notebooks. When using Pinecone yourself,\n",
        "    you can use environment variables or the like to set your API key.\n",
        "    \"\"\"\n",
        "    api_key = os.environ.get(\"PINECONE_API_KEY\")\n",
        "\n",
        "    if api_key is None:\n",
        "        try:\n",
        "            # Try Colab authentication if available\n",
        "            from pinecone_notebooks.colab import Authenticate\n",
        "            Authenticate()\n",
        "            # If successful, key will now be in environment\n",
        "            api_key = os.environ.get(\"PINECONE_API_KEY\")\n",
        "        except ImportError:\n",
        "            # If not in Colab or authentication fails, prompt user for API key\n",
        "            print(\"Pinecone API key not found in environment.\")\n",
        "            api_key = getpass(\"Please enter your Pinecone API key: \")\n",
        "            # Save to environment for future use in session\n",
        "            os.environ[\"PINECONE_API_KEY\"] = api_key\n",
        "\n",
        "    return api_key\n",
        "\n",
        "PINECONE_API_KEY = get_pinecone_api_key()\n"
      ]
    },
    {
      "cell_type": "markdown",
      "metadata": {
        "id": "3xGvBihbHD71"
      },
      "source": [
        "## Setup OpenAI API Key\n",
        "\n"
      ]
    },
    {
      "cell_type": "code",
      "execution_count": 7,
      "metadata": {
        "id": "KBJtECYBHD71"
      },
      "outputs": [],
      "source": [
        "def get_openai_api_key():\n",
        "    \"\"\"\n",
        "    Get OpenAI API key from environment variable or prompt user for input.\n",
        "    Returns the API key as a string.\n",
        "    \"\"\"\n",
        "\n",
        "    api_key = os.environ.get(\"OPENAI_API_KEY\")\n",
        "\n",
        "    if api_key is None:\n",
        "        try:\n",
        "            api_key = getpass(\"Please enter your OpenAI API key: \")\n",
        "            # Save to environment for future use in session\n",
        "            os.environ[\"OPENAI_API_KEY\"] = api_key\n",
        "        except Exception as e:\n",
        "            print(f\"Error getting OpenAI API key: {e}\")\n",
        "            return None\n",
        "\n",
        "    return api_key"
      ]
    },
    {
      "cell_type": "code",
      "execution_count": 8,
      "metadata": {
        "id": "C_-xkSiKHD71",
        "outputId": "2039e7e3-1359-407e-dc33-7198493764d3",
        "colab": {
          "base_uri": "https://localhost:8080/"
        }
      },
      "outputs": [
        {
          "name": "stdout",
          "output_type": "stream",
          "text": [
            "Please enter your OpenAI API key: ··········\n"
          ]
        }
      ],
      "source": [
        "OPENAI_API_KEY = get_openai_api_key()"
      ]
    },
    {
      "cell_type": "markdown",
      "metadata": {
        "id": "HWO2SoURHD71"
      },
      "source": [
        "## Setting up Pinecone Index\n",
        "We'll instantiate a Pinecone client, and create an index with a few key properties:\n",
        "- index_name, which identifies our index\n",
        "- dimension, which corresponds to the OpenAI embedding model vector size we'll use\n",
        "- metric, which corresponds to the way \"closeness\" is evaluated with our vectors\n",
        "- a spec, which determines the kind of index we are setting up. In this case, it's a free tier Pinecone serverless index"
      ]
    },
    {
      "cell_type": "code",
      "execution_count": 10,
      "metadata": {
        "id": "VpXOzfcZHD72"
      },
      "outputs": [],
      "source": [
        "from pinecone import Pinecone\n",
        "\n",
        "pc = Pinecone(\n",
        "        api_key=\"pcsk_4LYjYn_N1TfoeLwfM1Yp6hHRaCZjXrBhpUk359ZGEG3VBeeBPDKPzZubPSYRYFtDCUveTP\",\n",
        "        # You can remove this parameterfor your own projects\n",
        "        source_tag=\"pinecone_examples:docs:langchain_retrieval_augmentation\"\n",
        "    )\n"
      ]
    },
    {
      "cell_type": "code",
      "execution_count": 11,
      "metadata": {
        "id": "pPdsJgUKHD72",
        "outputId": "b56d2bce-d96b-40d6-e4ab-a9b397824392",
        "colab": {
          "base_uri": "https://localhost:8080/"
        }
      },
      "outputs": [
        {
          "output_type": "execute_result",
          "data": {
            "text/plain": [
              "{'dimension': 1536,\n",
              " 'index_fullness': 0.0,\n",
              " 'namespaces': {},\n",
              " 'total_vector_count': 0}"
            ]
          },
          "metadata": {},
          "execution_count": 11
        }
      ],
      "source": [
        "index_name = \"langchain-pinecone-rag\"\n",
        "from pinecone import ServerlessSpec\n",
        "\n",
        "if not pc.has_index(index_name):\n",
        "    pc.create_index(\n",
        "        name=index_name,\n",
        "        # dimension of the vector embeddings produced by OpenAI's text-embedding-3-small\n",
        "        dimension=1536,\n",
        "        metric=\"cosine\",\n",
        "        # parameters for the free tier index\n",
        "        spec=ServerlessSpec(\n",
        "            cloud=\"aws\",\n",
        "            region=\"us-east-1\"\n",
        "        )\n",
        "    )\n",
        "\n",
        "# Initialize index client\n",
        "index = pc.Index(name=index_name)\n",
        "\n",
        "# View index stats\n",
        "index.describe_index_stats()\n"
      ]
    },
    {
      "cell_type": "markdown",
      "metadata": {
        "id": "jKC7Tu6XHD72"
      },
      "source": [
        "## Embedding our documents and upserting into Pinecone"
      ]
    },
    {
      "cell_type": "markdown",
      "metadata": {
        "id": "mvRz1rqcHD72"
      },
      "source": [
        "Next, we'll setup our OpenAI embedding model and Pinecone vector database within LangChain. To do this, we import the related abstractions from LangChain and pass in our API keys and model names.\n",
        "\n",
        "After that, we generate ids for each document-chunk to better manage them within Pinecone."
      ]
    },
    {
      "cell_type": "code",
      "execution_count": 12,
      "metadata": {
        "id": "1sEQlhCSHD72",
        "outputId": "3309722c-490a-48e0-c28f-635a996de079",
        "colab": {
          "base_uri": "https://localhost:8080/"
        }
      },
      "outputs": [
        {
          "output_type": "execute_result",
          "data": {
            "text/plain": [
              "[{'release': '2024 releases',\n",
              "  'month_year': 'December 2024',\n",
              "  'source': 'https://docs.pinecone.io/release-notes/2024.md',\n",
              "  'chunk_num': 0},\n",
              " {'release': '2024 releases',\n",
              "  'month_year': 'December 2024',\n",
              "  'feature': 'Increased namespaces limit',\n",
              "  'source': 'https://docs.pinecone.io/release-notes/2024.md',\n",
              "  'chunk_num': 1},\n",
              " {'release': '2024 releases',\n",
              "  'month_year': 'December 2024',\n",
              "  'feature': 'Pinecone Assistant JSON mode and EU region deployment',\n",
              "  'source': 'https://docs.pinecone.io/release-notes/2024.md',\n",
              "  'chunk_num': 2},\n",
              " {'release': '2024 releases',\n",
              "  'month_year': 'December 2024',\n",
              "  'feature': 'Released Spark-Pinecone connector v1.2.0',\n",
              "  'source': 'https://docs.pinecone.io/release-notes/2024.md',\n",
              "  'chunk_num': 3},\n",
              " {'release': '2024 releases',\n",
              "  'month_year': 'December 2024',\n",
              "  'feature': 'New integration with HoneyHive',\n",
              "  'source': 'https://docs.pinecone.io/release-notes/2024.md',\n",
              "  'chunk_num': 4},\n",
              " {'release': '2024 releases',\n",
              "  'month_year': 'December 2024',\n",
              "  'feature': 'Released Python SDK v5.4.2',\n",
              "  'source': 'https://docs.pinecone.io/release-notes/2024.md',\n",
              "  'chunk_num': 5},\n",
              " {'release': '2024 releases',\n",
              "  'month_year': 'December 2024',\n",
              "  'feature': 'Launch week: Pinecone Local',\n",
              "  'source': 'https://docs.pinecone.io/release-notes/2024.md',\n",
              "  'chunk_num': 6},\n",
              " {'release': '2024 releases',\n",
              "  'month_year': 'December 2024',\n",
              "  'feature': 'Launch week: Enhanced security and access controls',\n",
              "  'source': 'https://docs.pinecone.io/release-notes/2024.md',\n",
              "  'chunk_num': 7},\n",
              " {'release': '2024 releases',\n",
              "  'month_year': 'December 2024',\n",
              "  'feature': 'Launch week: `pinecone-rerank-v0` and `cohere-rerank-3.5` on Pinecone Inference',\n",
              "  'source': 'https://docs.pinecone.io/release-notes/2024.md',\n",
              "  'chunk_num': 8},\n",
              " {'release': '2024 releases',\n",
              "  'month_year': 'December 2024',\n",
              "  'feature': 'Launch week: Integrated Inference',\n",
              "  'source': 'https://docs.pinecone.io/release-notes/2024.md',\n",
              "  'chunk_num': 9},\n",
              " {'release': '2024 releases',\n",
              "  'month_year': 'December 2024',\n",
              "  'feature': 'Released .NET SDK v2.1.0',\n",
              "  'source': 'https://docs.pinecone.io/release-notes/2024.md',\n",
              "  'chunk_num': 10},\n",
              " {'release': '2024 releases',\n",
              "  'month_year': 'December 2024',\n",
              "  'feature': 'Improved batch deletion guidance',\n",
              "  'source': 'https://docs.pinecone.io/release-notes/2024.md',\n",
              "  'chunk_num': 11},\n",
              " {'release': '2024 releases',\n",
              "  'month_year': 'December 2024',\n",
              "  'feature': 'Launch week: Released `pinecone-sparse-english-v0`',\n",
              "  'source': 'https://docs.pinecone.io/release-notes/2024.md',\n",
              "  'chunk_num': 12},\n",
              " {'release': '2024 releases',\n",
              "  'month_year': 'November 2024',\n",
              "  'source': 'https://docs.pinecone.io/release-notes/2024.md',\n",
              "  'chunk_num': 13},\n",
              " {'release': '2024 releases',\n",
              "  'month_year': 'November 2024',\n",
              "  'feature': 'Pinecone docs: New workflows and best practices',\n",
              "  'source': 'https://docs.pinecone.io/release-notes/2024.md',\n",
              "  'chunk_num': 14},\n",
              " {'release': '2024 releases',\n",
              "  'month_year': 'November 2024',\n",
              "  'feature': 'Released Java SDK v3.1.0',\n",
              "  'source': 'https://docs.pinecone.io/release-notes/2024.md',\n",
              "  'chunk_num': 15},\n",
              " {'release': '2024 releases',\n",
              "  'month_year': 'November 2024',\n",
              "  'feature': 'Pinecone Assistant: Context snippets and structured data files',\n",
              "  'source': 'https://docs.pinecone.io/release-notes/2024.md',\n",
              "  'chunk_num': 16},\n",
              " {'release': '2024 releases',\n",
              "  'month_year': 'November 2024',\n",
              "  'feature': 'Monthly spend alerts',\n",
              "  'source': 'https://docs.pinecone.io/release-notes/2024.md',\n",
              "  'chunk_num': 17},\n",
              " {'release': '2024 releases',\n",
              "  'month_year': 'November 2024',\n",
              "  'feature': 'Released .NET SDK v2.0.0',\n",
              "  'source': 'https://docs.pinecone.io/release-notes/2024.md',\n",
              "  'chunk_num': 18},\n",
              " {'release': '2024 releases',\n",
              "  'month_year': 'November 2024',\n",
              "  'feature': 'Released Python SDK v5.4.0 and v5.4.1',\n",
              "  'source': 'https://docs.pinecone.io/release-notes/2024.md',\n",
              "  'chunk_num': 19},\n",
              " {'release': '2024 releases',\n",
              "  'month_year': 'November 2024',\n",
              "  'feature': 'Enabled CSV export of usage and costs',\n",
              "  'source': 'https://docs.pinecone.io/release-notes/2024.md',\n",
              "  'chunk_num': 20},\n",
              " {'release': '2024 releases',\n",
              "  'month_year': 'November 2024',\n",
              "  'feature': 'Added Support chat in the console',\n",
              "  'source': 'https://docs.pinecone.io/release-notes/2024.md',\n",
              "  'chunk_num': 21},\n",
              " {'release': '2024 releases',\n",
              "  'month_year': 'November 2024',\n",
              "  'feature': 'Published Assistant quickstart guide',\n",
              "  'source': 'https://docs.pinecone.io/release-notes/2024.md',\n",
              "  'chunk_num': 22},\n",
              " {'release': '2024 releases',\n",
              "  'month_year': 'October 2024',\n",
              "  'source': 'https://docs.pinecone.io/release-notes/2024.md',\n",
              "  'chunk_num': 23},\n",
              " {'release': '2024 releases',\n",
              "  'month_year': 'October 2024',\n",
              "  'feature': 'Cequence released updated Scala SDK',\n",
              "  'source': 'https://docs.pinecone.io/release-notes/2024.md',\n",
              "  'chunk_num': 24},\n",
              " {'release': '2024 releases',\n",
              "  'month_year': 'October 2024',\n",
              "  'feature': 'Added index tagging for categorization',\n",
              "  'source': 'https://docs.pinecone.io/release-notes/2024.md',\n",
              "  'chunk_num': 25},\n",
              " {'release': '2024 releases',\n",
              "  'month_year': 'October 2024',\n",
              "  'feature': 'Released major SDK updates: Node.js, Go, Java, and Python',\n",
              "  'source': 'https://docs.pinecone.io/release-notes/2024.md',\n",
              "  'chunk_num': 26},\n",
              " {'release': '2024 releases',\n",
              "  'month_year': 'October 2024',\n",
              "  'feature': 'Pinecone API version `2024-10` is now the latest stable version',\n",
              "  'source': 'https://docs.pinecone.io/release-notes/2024.md',\n",
              "  'chunk_num': 27},\n",
              " {'release': '2024 releases',\n",
              "  'month_year': 'October 2024',\n",
              "  'feature': 'Pinecone Inference now available on the free Starter plan',\n",
              "  'source': 'https://docs.pinecone.io/release-notes/2024.md',\n",
              "  'chunk_num': 28},\n",
              " {'release': '2024 releases',\n",
              "  'month_year': 'October 2024',\n",
              "  'feature': 'Customer-managed encryption keys (CMEK) in early access',\n",
              "  'source': 'https://docs.pinecone.io/release-notes/2024.md',\n",
              "  'chunk_num': 29},\n",
              " {'release': '2024 releases',\n",
              "  'month_year': 'October 2024',\n",
              "  'feature': 'Serverless index monitoring generally available',\n",
              "  'source': 'https://docs.pinecone.io/release-notes/2024.md',\n",
              "  'chunk_num': 30},\n",
              " {'release': '2024 releases',\n",
              "  'month_year': 'October 2024',\n",
              "  'feature': 'Data import from Amazon S3 in public preview',\n",
              "  'source': 'https://docs.pinecone.io/release-notes/2024.md',\n",
              "  'chunk_num': 31},\n",
              " {'release': '2024 releases',\n",
              "  'month_year': 'October 2024',\n",
              "  'feature': 'Chat and update features added to Assistant',\n",
              "  'source': 'https://docs.pinecone.io/release-notes/2024.md',\n",
              "  'chunk_num': 32},\n",
              " {'release': '2024 releases',\n",
              "  'month_year': 'September 2024',\n",
              "  'source': 'https://docs.pinecone.io/release-notes/2024.md',\n",
              "  'chunk_num': 33},\n",
              " {'release': '2024 releases',\n",
              "  'month_year': 'August 2024',\n",
              "  'source': 'https://docs.pinecone.io/release-notes/2024.md',\n",
              "  'chunk_num': 34},\n",
              " {'release': '2024 releases',\n",
              "  'month_year': 'July 2024',\n",
              "  'source': 'https://docs.pinecone.io/release-notes/2024.md',\n",
              "  'chunk_num': 35},\n",
              " {'release': '2024 releases',\n",
              "  'month_year': 'June 2024',\n",
              "  'source': 'https://docs.pinecone.io/release-notes/2024.md',\n",
              "  'chunk_num': 36},\n",
              " {'release': '2024 releases',\n",
              "  'month_year': 'May 2024',\n",
              "  'source': 'https://docs.pinecone.io/release-notes/2024.md',\n",
              "  'chunk_num': 37},\n",
              " {'release': '2024 releases',\n",
              "  'month_year': 'April 2024',\n",
              "  'source': 'https://docs.pinecone.io/release-notes/2024.md',\n",
              "  'chunk_num': 38},\n",
              " {'release': '2024 releases',\n",
              "  'month_year': 'March 2024',\n",
              "  'source': 'https://docs.pinecone.io/release-notes/2024.md',\n",
              "  'chunk_num': 39},\n",
              " {'release': '2024 releases',\n",
              "  'month_year': 'February 2024',\n",
              "  'source': 'https://docs.pinecone.io/release-notes/2024.md',\n",
              "  'chunk_num': 40},\n",
              " {'release': '2024 releases',\n",
              "  'month_year': 'January 2024',\n",
              "  'source': 'https://docs.pinecone.io/release-notes/2024.md',\n",
              "  'chunk_num': 41},\n",
              " {'release': '2025 releases',\n",
              "  'month_year': 'June 2025',\n",
              "  'source': 'https://docs.pinecone.io/release-notes/2025.md',\n",
              "  'chunk_num': 0},\n",
              " {'release': '2025 releases',\n",
              "  'month_year': 'June 2025',\n",
              "  'feature': 'Unlimited assistant file storage for paid plans',\n",
              "  'source': 'https://docs.pinecone.io/release-notes/2025.md',\n",
              "  'chunk_num': 1},\n",
              " {'release': '2025 releases',\n",
              "  'month_year': 'June 2025',\n",
              "  'feature': 'Data import from Google Cloud Storage',\n",
              "  'source': 'https://docs.pinecone.io/release-notes/2025.md',\n",
              "  'chunk_num': 2},\n",
              " {'release': '2025 releases',\n",
              "  'month_year': 'June 2025',\n",
              "  'feature': 'Released Python SDK v7.1.0 and v7.2.0',\n",
              "  'source': 'https://docs.pinecone.io/release-notes/2025.md',\n",
              "  'chunk_num': 3},\n",
              " {'release': '2025 releases',\n",
              "  'month_year': 'June 2025',\n",
              "  'feature': 'Released Go SDK v4.0.0 and v4.0.1',\n",
              "  'source': 'https://docs.pinecone.io/release-notes/2025.md',\n",
              "  'chunk_num': 4},\n",
              " {'release': '2025 releases',\n",
              "  'month_year': 'June 2025',\n",
              "  'feature': 'Released Node.js SDK v6.1.1',\n",
              "  'source': 'https://docs.pinecone.io/release-notes/2025.md',\n",
              "  'chunk_num': 5},\n",
              " {'release': '2025 releases',\n",
              "  'month_year': 'June 2025',\n",
              "  'feature': 'Data modeling guide',\n",
              "  'source': 'https://docs.pinecone.io/release-notes/2025.md',\n",
              "  'chunk_num': 6},\n",
              " {'release': '2025 releases',\n",
              "  'month_year': 'June 2025',\n",
              "  'feature': 'Released Java SDK v5.1.0',\n",
              "  'source': 'https://docs.pinecone.io/release-notes/2025.md',\n",
              "  'chunk_num': 7},\n",
              " {'release': '2025 releases',\n",
              "  'month_year': 'June 2025',\n",
              "  'feature': 'Released Node.js SDK v6.1.0',\n",
              "  'source': 'https://docs.pinecone.io/release-notes/2025.md',\n",
              "  'chunk_num': 8},\n",
              " {'release': '2025 releases',\n",
              "  'month_year': 'May 2025',\n",
              "  'source': 'https://docs.pinecone.io/release-notes/2025.md',\n",
              "  'chunk_num': 9},\n",
              " {'release': '2025 releases',\n",
              "  'month_year': 'May 2025',\n",
              "  'feature': 'Released Python SDK v7.0.1 and v7.0.2',\n",
              "  'source': 'https://docs.pinecone.io/release-notes/2025.md',\n",
              "  'chunk_num': 10},\n",
              " {'release': '2025 releases',\n",
              "  'month_year': 'May 2025',\n",
              "  'feature': 'Released Node.s SDK v6.0.1',\n",
              "  'source': 'https://docs.pinecone.io/release-notes/2025.md',\n",
              "  'chunk_num': 11},\n",
              " {'release': '2025 releases',\n",
              "  'month_year': 'May 2025',\n",
              "  'feature': 'Pinecone API version `2025-04` is now the latest stable version',\n",
              "  'source': 'https://docs.pinecone.io/release-notes/2025.md',\n",
              "  'chunk_num': 12},\n",
              " {'release': '2025 releases',\n",
              "  'month_year': 'May 2025',\n",
              "  'feature': 'Released Python SDK v7.0.0',\n",
              "  'source': 'https://docs.pinecone.io/release-notes/2025.md',\n",
              "  'chunk_num': 13},\n",
              " {'release': '2025 releases',\n",
              "  'month_year': 'May 2025',\n",
              "  'feature': 'Released Node.js SDK v6.0.0',\n",
              "  'source': 'https://docs.pinecone.io/release-notes/2025.md',\n",
              "  'chunk_num': 14},\n",
              " {'release': '2025 releases',\n",
              "  'month_year': 'May 2025',\n",
              "  'feature': 'Released Java SDK v5.0.0',\n",
              "  'source': 'https://docs.pinecone.io/release-notes/2025.md',\n",
              "  'chunk_num': 15},\n",
              " {'release': '2025 releases',\n",
              "  'month_year': 'May 2025',\n",
              "  'feature': 'Released .NET SDK v4.0.0',\n",
              "  'source': 'https://docs.pinecone.io/release-notes/2025.md',\n",
              "  'chunk_num': 16},\n",
              " {'release': '2025 releases',\n",
              "  'month_year': 'May 2025',\n",
              "  'feature': 'New Docs IA',\n",
              "  'source': 'https://docs.pinecone.io/release-notes/2025.md',\n",
              "  'chunk_num': 17},\n",
              " {'release': '2025 releases',\n",
              "  'month_year': 'April 2025',\n",
              "  'source': 'https://docs.pinecone.io/release-notes/2025.md',\n",
              "  'chunk_num': 18},\n",
              " {'release': '2025 releases',\n",
              "  'month_year': 'April 2025',\n",
              "  'feature': 'Bring Your Own Cloud (BYOC) in GCP',\n",
              "  'source': 'https://docs.pinecone.io/release-notes/2025.md',\n",
              "  'chunk_num': 19},\n",
              " {'release': '2025 releases',\n",
              "  'month_year': 'April 2025',\n",
              "  'feature': 'Integrate AI agents with Pinecone MCP',\n",
              "  'source': 'https://docs.pinecone.io/release-notes/2025.md',\n",
              "  'chunk_num': 20},\n",
              " {'release': '2025 releases',\n",
              "  'month_year': 'April 2025',\n",
              "  'feature': 'Add context to AI agents with Assistant MCP',\n",
              "  'source': 'https://docs.pinecone.io/release-notes/2025.md',\n",
              "  'chunk_num': 21},\n",
              " {'release': '2025 releases',\n",
              "  'month_year': 'April 2025',\n",
              "  'feature': 'Upload a file from an in-memory binary stream',\n",
              "  'source': 'https://docs.pinecone.io/release-notes/2025.md',\n",
              "  'chunk_num': 22},\n",
              " {'release': '2025 releases',\n",
              "  'month_year': 'April 2025',\n",
              "  'feature': 'Released Pinecone Terraform Provider v1.0.0',\n",
              "  'source': 'https://docs.pinecone.io/release-notes/2025.md',\n",
              "  'chunk_num': 23},\n",
              " {'release': '2025 releases',\n",
              "  'month_year': 'April 2025',\n",
              "  'feature': 'Released .NET SDK v3.1.0',\n",
              "  'source': 'https://docs.pinecone.io/release-notes/2025.md',\n",
              "  'chunk_num': 24},\n",
              " {'release': '2025 releases',\n",
              "  'month_year': 'April 2025',\n",
              "  'feature': 'LLM shortcuts for Pinecone docs',\n",
              "  'source': 'https://docs.pinecone.io/release-notes/2025.md',\n",
              "  'chunk_num': 25},\n",
              " {'release': '2025 releases',\n",
              "  'month_year': 'March 2025',\n",
              "  'source': 'https://docs.pinecone.io/release-notes/2025.md',\n",
              "  'chunk_num': 26},\n",
              " {'release': '2025 releases',\n",
              "  'month_year': 'March 2025',\n",
              "  'feature': 'Control the context snippets the assistant sends to the LLM',\n",
              "  'source': 'https://docs.pinecone.io/release-notes/2025.md',\n",
              "  'chunk_num': 27},\n",
              " {'release': '2025 releases',\n",
              "  'month_year': 'March 2025',\n",
              "  'feature': 'Released Go SDK v3.1.0',\n",
              "  'source': 'https://docs.pinecone.io/release-notes/2025.md',\n",
              "  'chunk_num': 28},\n",
              " {'release': '2025 releases',\n",
              "  'month_year': 'March 2025',\n",
              "  'feature': 'Launch week: Dark mode',\n",
              "  'source': 'https://docs.pinecone.io/release-notes/2025.md',\n",
              "  'chunk_num': 29},\n",
              " {'release': '2025 releases',\n",
              "  'month_year': 'March 2025',\n",
              "  'feature': 'Launch week: Self-service audit logs',\n",
              "  'source': 'https://docs.pinecone.io/release-notes/2025.md',\n",
              "  'chunk_num': 30},\n",
              " {'release': '2025 releases',\n",
              "  'month_year': 'March 2025',\n",
              "  'feature': 'Launch week: Introducing the Admin API and service accounts',\n",
              "  'source': 'https://docs.pinecone.io/release-notes/2025.md',\n",
              "  'chunk_num': 31},\n",
              " {'release': '2025 releases',\n",
              "  'month_year': 'March 2025',\n",
              "  'feature': 'Launch week: Back up an index through the API',\n",
              "  'source': 'https://docs.pinecone.io/release-notes/2025.md',\n",
              "  'chunk_num': 32},\n",
              " {'release': '2025 releases',\n",
              "  'month_year': 'March 2025',\n",
              "  'feature': 'Launch week: Optimized database architecture',\n",
              "  'source': 'https://docs.pinecone.io/release-notes/2025.md',\n",
              "  'chunk_num': 33},\n",
              " {'release': '2025 releases',\n",
              "  'month_year': 'March 2025',\n",
              "  'feature': 'Firebase Genkit integration',\n",
              "  'source': 'https://docs.pinecone.io/release-notes/2025.md',\n",
              "  'chunk_num': 34},\n",
              " {'release': '2025 releases',\n",
              "  'month_year': 'March 2025',\n",
              "  'feature': 'Bring Your Own Cloud (BYOC) in public preview',\n",
              "  'source': 'https://docs.pinecone.io/release-notes/2025.md',\n",
              "  'chunk_num': 35},\n",
              " {'release': '2025 releases',\n",
              "  'month_year': 'February 2025',\n",
              "  'source': 'https://docs.pinecone.io/release-notes/2025.md',\n",
              "  'chunk_num': 36},\n",
              " {'release': '2025 releases',\n",
              "  'month_year': 'February 2025',\n",
              "  'feature': 'Docs site refresh',\n",
              "  'source': 'https://docs.pinecone.io/release-notes/2025.md',\n",
              "  'chunk_num': 37},\n",
              " {'release': '2025 releases',\n",
              "  'month_year': 'February 2025',\n",
              "  'feature': 'Limit the number of chunks retrieved',\n",
              "  'source': 'https://docs.pinecone.io/release-notes/2025.md',\n",
              "  'chunk_num': 38},\n",
              " {'release': '2025 releases',\n",
              "  'month_year': 'February 2025',\n",
              "  'feature': 'Assistant Quickstart colab notebook',\n",
              "  'source': 'https://docs.pinecone.io/release-notes/2025.md',\n",
              "  'chunk_num': 39},\n",
              " {'release': '2025 releases',\n",
              "  'month_year': 'February 2025',\n",
              "  'feature': 'Released Node.js SDK v5.0.0',\n",
              "  'source': 'https://docs.pinecone.io/release-notes/2025.md',\n",
              "  'chunk_num': 40},\n",
              " {'release': '2025 releases',\n",
              "  'month_year': 'February 2025',\n",
              "  'feature': 'New integrations',\n",
              "  'source': 'https://docs.pinecone.io/release-notes/2025.md',\n",
              "  'chunk_num': 41},\n",
              " {'release': '2025 releases',\n",
              "  'month_year': 'February 2025',\n",
              "  'feature': 'Citation highlights in assistant responses',\n",
              "  'source': 'https://docs.pinecone.io/release-notes/2025.md',\n",
              "  'chunk_num': 42},\n",
              " {'release': '2025 releases',\n",
              "  'month_year': 'February 2025',\n",
              "  'feature': 'Pinecone API version `2025-01` is now the latest stable version',\n",
              "  'source': 'https://docs.pinecone.io/release-notes/2025.md',\n",
              "  'chunk_num': 43},\n",
              " {'release': '2025 releases',\n",
              "  'month_year': 'February 2025',\n",
              "  'feature': 'Released Python SDK v6.0.0',\n",
              "  'source': 'https://docs.pinecone.io/release-notes/2025.md',\n",
              "  'chunk_num': 44},\n",
              " {'release': '2025 releases',\n",
              "  'month_year': 'February 2025',\n",
              "  'feature': 'Released Java SDK v4.0.0',\n",
              "  'source': 'https://docs.pinecone.io/release-notes/2025.md',\n",
              "  'chunk_num': 45},\n",
              " {'release': '2025 releases',\n",
              "  'month_year': 'February 2025',\n",
              "  'feature': 'Released Go SDK v3.0.0',\n",
              "  'source': 'https://docs.pinecone.io/release-notes/2025.md',\n",
              "  'chunk_num': 46},\n",
              " {'release': '2025 releases',\n",
              "  'month_year': 'February 2025',\n",
              "  'feature': 'Released .NET SDK v3.0.0',\n",
              "  'source': 'https://docs.pinecone.io/release-notes/2025.md',\n",
              "  'chunk_num': 47},\n",
              " {'release': '2025 releases',\n",
              "  'month_year': 'January 2025',\n",
              "  'source': 'https://docs.pinecone.io/release-notes/2025.md',\n",
              "  'chunk_num': 48},\n",
              " {'release': '2025 releases',\n",
              "  'month_year': 'January 2025',\n",
              "  'feature': 'Update to the API keys page',\n",
              "  'source': 'https://docs.pinecone.io/release-notes/2025.md',\n",
              "  'chunk_num': 49},\n",
              " {'release': '2025 releases',\n",
              "  'month_year': 'January 2025',\n",
              "  'feature': 'Sparse-only indexes in early access',\n",
              "  'source': 'https://docs.pinecone.io/release-notes/2025.md',\n",
              "  'chunk_num': 50},\n",
              " {'release': '2025 releases',\n",
              "  'month_year': 'January 2025',\n",
              "  'feature': 'Released Node SDK v4.1.0',\n",
              "  'source': 'https://docs.pinecone.io/release-notes/2025.md',\n",
              "  'chunk_num': 51},\n",
              " {'release': '2025 releases',\n",
              "  'month_year': 'January 2025',\n",
              "  'feature': 'New Billing Admin user role',\n",
              "  'source': 'https://docs.pinecone.io/release-notes/2025.md',\n",
              "  'chunk_num': 52},\n",
              " {'release': '2025 releases',\n",
              "  'month_year': 'January 2025',\n",
              "  'feature': 'Released Go SDK v2.2.0',\n",
              "  'source': 'https://docs.pinecone.io/release-notes/2025.md',\n",
              "  'chunk_num': 53}]"
            ]
          },
          "metadata": {},
          "execution_count": 12
        }
      ],
      "source": [
        "[doc.metadata for doc in pinecone_docs]"
      ]
    },
    {
      "cell_type": "code",
      "execution_count": 13,
      "metadata": {
        "id": "FVCfffUtHD72",
        "outputId": "e563022f-800c-4b3e-ddbe-cbcc05b7501c",
        "colab": {
          "base_uri": "https://localhost:8080/"
        }
      },
      "outputs": [
        {
          "output_type": "execute_result",
          "data": {
            "text/plain": [
              "['release_2024#feature_na#chunk_num0',\n",
              " 'release_2024#feature_Increased namespaces limit#chunk_num1',\n",
              " 'release_2024#feature_Pinecone Assistant JSON mode and EU region deployment#chunk_num2',\n",
              " 'release_2024#feature_Released Spark-Pinecone connector v1.2.0#chunk_num3',\n",
              " 'release_2024#feature_New integration with HoneyHive#chunk_num4',\n",
              " 'release_2024#feature_Released Python SDK v5.4.2#chunk_num5',\n",
              " 'release_2024#feature_Launch week: Pinecone Local#chunk_num6',\n",
              " 'release_2024#feature_Launch week: Enhanced security and access controls#chunk_num7',\n",
              " 'release_2024#feature_Launch week: `pinecone-rerank-v0` and `cohere-rerank-3.5` on Pinecone Inference#chunk_num8',\n",
              " 'release_2024#feature_Launch week: Integrated Inference#chunk_num9',\n",
              " 'release_2024#feature_Released .NET SDK v2.1.0#chunk_num10',\n",
              " 'release_2024#feature_Improved batch deletion guidance#chunk_num11',\n",
              " 'release_2024#feature_Launch week: Released `pinecone-sparse-english-v0`#chunk_num12',\n",
              " 'release_2024#feature_na#chunk_num13',\n",
              " 'release_2024#feature_Pinecone docs: New workflows and best practices#chunk_num14',\n",
              " 'release_2024#feature_Released Java SDK v3.1.0#chunk_num15',\n",
              " 'release_2024#feature_Pinecone Assistant: Context snippets and structured data files#chunk_num16',\n",
              " 'release_2024#feature_Monthly spend alerts#chunk_num17',\n",
              " 'release_2024#feature_Released .NET SDK v2.0.0#chunk_num18',\n",
              " 'release_2024#feature_Released Python SDK v5.4.0 and v5.4.1#chunk_num19',\n",
              " 'release_2024#feature_Enabled CSV export of usage and costs#chunk_num20',\n",
              " 'release_2024#feature_Added Support chat in the console#chunk_num21',\n",
              " 'release_2024#feature_Published Assistant quickstart guide#chunk_num22',\n",
              " 'release_2024#feature_na#chunk_num23',\n",
              " 'release_2024#feature_Cequence released updated Scala SDK#chunk_num24',\n",
              " 'release_2024#feature_Added index tagging for categorization#chunk_num25',\n",
              " 'release_2024#feature_Released major SDK updates: Node.js, Go, Java, and Python#chunk_num26',\n",
              " 'release_2024#feature_Pinecone API version `2024-10` is now the latest stable version#chunk_num27',\n",
              " 'release_2024#feature_Pinecone Inference now available on the free Starter plan#chunk_num28',\n",
              " 'release_2024#feature_Customer-managed encryption keys (CMEK) in early access#chunk_num29',\n",
              " 'release_2024#feature_Serverless index monitoring generally available#chunk_num30',\n",
              " 'release_2024#feature_Data import from Amazon S3 in public preview#chunk_num31',\n",
              " 'release_2024#feature_Chat and update features added to Assistant#chunk_num32',\n",
              " 'release_2024#feature_na#chunk_num33',\n",
              " 'release_2024#feature_na#chunk_num34',\n",
              " 'release_2024#feature_na#chunk_num35',\n",
              " 'release_2024#feature_na#chunk_num36',\n",
              " 'release_2024#feature_na#chunk_num37',\n",
              " 'release_2024#feature_na#chunk_num38',\n",
              " 'release_2024#feature_na#chunk_num39',\n",
              " 'release_2024#feature_na#chunk_num40',\n",
              " 'release_2024#feature_na#chunk_num41',\n",
              " 'release_2025#feature_na#chunk_num0',\n",
              " 'release_2025#feature_Unlimited assistant file storage for paid plans#chunk_num1',\n",
              " 'release_2025#feature_Data import from Google Cloud Storage#chunk_num2',\n",
              " 'release_2025#feature_Released Python SDK v7.1.0 and v7.2.0#chunk_num3',\n",
              " 'release_2025#feature_Released Go SDK v4.0.0 and v4.0.1#chunk_num4',\n",
              " 'release_2025#feature_Released Node.js SDK v6.1.1#chunk_num5',\n",
              " 'release_2025#feature_Data modeling guide#chunk_num6',\n",
              " 'release_2025#feature_Released Java SDK v5.1.0#chunk_num7',\n",
              " 'release_2025#feature_Released Node.js SDK v6.1.0#chunk_num8',\n",
              " 'release_2025#feature_na#chunk_num9',\n",
              " 'release_2025#feature_Released Python SDK v7.0.1 and v7.0.2#chunk_num10',\n",
              " 'release_2025#feature_Released Node.s SDK v6.0.1#chunk_num11',\n",
              " 'release_2025#feature_Pinecone API version `2025-04` is now the latest stable version#chunk_num12',\n",
              " 'release_2025#feature_Released Python SDK v7.0.0#chunk_num13',\n",
              " 'release_2025#feature_Released Node.js SDK v6.0.0#chunk_num14',\n",
              " 'release_2025#feature_Released Java SDK v5.0.0#chunk_num15',\n",
              " 'release_2025#feature_Released .NET SDK v4.0.0#chunk_num16',\n",
              " 'release_2025#feature_New Docs IA#chunk_num17',\n",
              " 'release_2025#feature_na#chunk_num18',\n",
              " 'release_2025#feature_Bring Your Own Cloud (BYOC) in GCP#chunk_num19',\n",
              " 'release_2025#feature_Integrate AI agents with Pinecone MCP#chunk_num20',\n",
              " 'release_2025#feature_Add context to AI agents with Assistant MCP#chunk_num21',\n",
              " 'release_2025#feature_Upload a file from an in-memory binary stream#chunk_num22',\n",
              " 'release_2025#feature_Released Pinecone Terraform Provider v1.0.0#chunk_num23',\n",
              " 'release_2025#feature_Released .NET SDK v3.1.0#chunk_num24',\n",
              " 'release_2025#feature_LLM shortcuts for Pinecone docs#chunk_num25',\n",
              " 'release_2025#feature_na#chunk_num26',\n",
              " 'release_2025#feature_Control the context snippets the assistant sends to the LLM#chunk_num27',\n",
              " 'release_2025#feature_Released Go SDK v3.1.0#chunk_num28',\n",
              " 'release_2025#feature_Launch week: Dark mode#chunk_num29',\n",
              " 'release_2025#feature_Launch week: Self-service audit logs#chunk_num30',\n",
              " 'release_2025#feature_Launch week: Introducing the Admin API and service accounts#chunk_num31',\n",
              " 'release_2025#feature_Launch week: Back up an index through the API#chunk_num32',\n",
              " 'release_2025#feature_Launch week: Optimized database architecture#chunk_num33',\n",
              " 'release_2025#feature_Firebase Genkit integration#chunk_num34',\n",
              " 'release_2025#feature_Bring Your Own Cloud (BYOC) in public preview#chunk_num35',\n",
              " 'release_2025#feature_na#chunk_num36',\n",
              " 'release_2025#feature_Docs site refresh#chunk_num37',\n",
              " 'release_2025#feature_Limit the number of chunks retrieved#chunk_num38',\n",
              " 'release_2025#feature_Assistant Quickstart colab notebook#chunk_num39',\n",
              " 'release_2025#feature_Released Node.js SDK v5.0.0#chunk_num40',\n",
              " 'release_2025#feature_New integrations#chunk_num41',\n",
              " 'release_2025#feature_Citation highlights in assistant responses#chunk_num42',\n",
              " 'release_2025#feature_Pinecone API version `2025-01` is now the latest stable version#chunk_num43',\n",
              " 'release_2025#feature_Released Python SDK v6.0.0#chunk_num44',\n",
              " 'release_2025#feature_Released Java SDK v4.0.0#chunk_num45',\n",
              " 'release_2025#feature_Released Go SDK v3.0.0#chunk_num46',\n",
              " 'release_2025#feature_Released .NET SDK v3.0.0#chunk_num47',\n",
              " 'release_2025#feature_na#chunk_num48',\n",
              " 'release_2025#feature_Update to the API keys page#chunk_num49',\n",
              " 'release_2025#feature_Sparse-only indexes in early access#chunk_num50',\n",
              " 'release_2025#feature_Released Node SDK v4.1.0#chunk_num51',\n",
              " 'release_2025#feature_New Billing Admin user role#chunk_num52',\n",
              " 'release_2025#feature_Released Go SDK v2.2.0#chunk_num53']"
            ]
          },
          "metadata": {},
          "execution_count": 13
        }
      ],
      "source": [
        "\n",
        "from langchain_openai import OpenAIEmbeddings\n",
        "from langchain_pinecone import PineconeVectorStore\n",
        "\n",
        "embeddings = OpenAIEmbeddings(api_key=OPENAI_API_KEY, model=\"text-embedding-3-small\")\n",
        "\n",
        "vector_store = PineconeVectorStore(index=index, embedding=embeddings)\n",
        "\n",
        "\n",
        "# do url_title, chunk_num to enable subscriptable hashing and replacement\n",
        "\n",
        "def clean_url_for_title(url):\n",
        "    # grabs the end of the url minus .md\n",
        "    return url.split(\"/\")[-1].replace(\".md\", \"\")\n",
        "\n",
        "# Here, we follow a schema that puts the document name, and the chunk number together, like doc1#chunk1\n",
        "\n",
        "def generate_ids(doc_chunk):\n",
        "\n",
        "    title = clean_url_for_title(doc_chunk.metadata['source'])\n",
        "    chunk_num = doc_chunk.metadata['chunk_num']\n",
        "    feature = doc_chunk.metadata['feature'] if 'feature' in doc_chunk.metadata else \"na\"\n",
        "    return f\"release_{title}#feature_{feature}#chunk_num{chunk_num}\"\n",
        "\n",
        "ids = [generate_ids(doc) for doc in pinecone_docs]\n",
        "\n",
        "\n",
        "# To learn more, look here: https://docs.pinecone.io/guides/manage-data/manage-document-chunks\n",
        "\n",
        "vector_store.add_documents(documents=pinecone_docs, ids=ids)\n"
      ]
    },
    {
      "cell_type": "markdown",
      "metadata": {
        "id": "A5dDWPGoIrd9"
      },
      "source": [
        "## Bringing it all together: Using OpenAI to learn about our releases\n",
        "\n",
        "Finally, we'll setup an OpenAI LLM endpoint to generate responses given a user's query about our release notes!"
      ]
    },
    {
      "cell_type": "code",
      "execution_count": 14,
      "metadata": {
        "id": "vqN-r8nOHD73"
      },
      "outputs": [],
      "source": [
        "from langchain.chat_models import init_chat_model\n",
        "\n",
        "llm = init_chat_model(\"gpt-4o-mini\", model_provider=\"openai\")"
      ]
    },
    {
      "cell_type": "code",
      "execution_count": 15,
      "metadata": {
        "id": "Rv92-oJ6HD73"
      },
      "outputs": [],
      "source": [
        "#OpenAI models will be unable to answer this due to training cutoffs in 2023-2024\n",
        "\n",
        "query = \"Tell me about version 7.0 of the Pinecone Python SDK\"\n",
        "\n",
        "retrieved_docs = vector_store.similarity_search(query, k=5)\n",
        "docs_content = \"\\n\\n\".join(doc.page_content for doc in retrieved_docs)\n",
        "\n",
        "prompt = f'''You are an assistant that answers questions exclusively about the\n",
        "Pinecone SDK release notes:\n",
        "\n",
        "Here's a question: {query}\n",
        "\n",
        "Here's some context from the release notes:\n",
        "\n",
        "{docs_content}\n",
        "\n",
        "\n",
        "Question: {query}\n",
        "\n",
        "Answer:\n",
        "'''\n",
        "\n",
        "# This will take a few seconds to run, due to the generation of the response from OpenAI\n",
        "answer = llm.invoke(prompt)"
      ]
    },
    {
      "cell_type": "markdown",
      "metadata": {
        "id": "sjOBIQ5rFeLZ"
      },
      "source": [
        "We can peek at the retrieved documents to confirm up to date information is being passed in:"
      ]
    },
    {
      "cell_type": "code",
      "execution_count": 16,
      "metadata": {
        "id": "HRMXkRAjHD73"
      },
      "outputs": [],
      "source": [
        "for num, d in enumerate(retrieved_docs):\n",
        "    print(f\"Doc number: {num+1}\")\n",
        "    print(d.page_content)\n",
        "    print(\"Metadata:\")\n",
        "    print(d.metadata)\n",
        "    print(\"-\"*100)\n"
      ]
    },
    {
      "cell_type": "markdown",
      "metadata": {
        "id": "JF4JGpeUHD73"
      },
      "source": [
        "### Comparing responses with/without RAG"
      ]
    },
    {
      "cell_type": "markdown",
      "metadata": {
        "id": "h9coNuiNHD73"
      },
      "source": [
        "Without our RAG pipeline with release notes indexed, OpenAI models will be\n",
        "unable to answer questions about new versions of Pinecone. They may even \"hallucinate\", or fabricate information about the versions that may not exist!"
      ]
    },
    {
      "cell_type": "code",
      "execution_count": 17,
      "metadata": {
        "id": "Gw2wkfnSHD73",
        "outputId": "290e48de-5cb0-4f20-c803-5e4bf488614c",
        "colab": {
          "base_uri": "https://localhost:8080/"
        }
      },
      "outputs": [
        {
          "output_type": "stream",
          "name": "stdout",
          "text": [
            "As of my last knowledge update in October 2023, I don't have the specific details about the most recent major feature release of the Pinecone Python SDK. However, to find the latest information regarding updates or releases, it is best to refer to the official Pinecone documentation or their GitHub repository. These resources typically include release notes that detail new features, improvements, and bug fixes.\n",
            "\n",
            "If you're looking for information on a particular feature or change, or if there's something specific about the SDK you're curious about, feel free to ask!\n"
          ]
        }
      ],
      "source": [
        "print(llm.invoke(\"Tell about the most recent major feature release in the Pinecone Python SDK\").content)"
      ]
    },
    {
      "cell_type": "markdown",
      "metadata": {
        "id": "WRm_c6VdHD73"
      },
      "source": [
        "However, with our pipeline in place, we get an answer that is more likely to be correct, and definitely grounded."
      ]
    },
    {
      "cell_type": "code",
      "execution_count": 18,
      "metadata": {
        "id": "Sju0uBumHD74",
        "outputId": "c5fbcf3e-6a70-4da2-e917-889e9af8bd71",
        "colab": {
          "base_uri": "https://localhost:8080/"
        }
      },
      "outputs": [
        {
          "output_type": "stream",
          "name": "stdout",
          "text": [
            "Version 7.0 of the Pinecone Python SDK introduced several noteworthy features and improvements. Key highlights include:\n",
            "\n",
            "1. **New Indexing and Querying API**: The SDK now supports a more streamlined and efficient way to create, update, and query indices, making it easier for users to manage their vector data.\n",
            "\n",
            "2. **Enhanced Performance**: Various performance optimizations have been implemented to improve the speed and efficiency of operations within the SDK.\n",
            "\n",
            "3. **Improved Documentation**: The release includes updated and clearer documentation, making it easier for users to understand how to utilize the SDK effectively.\n",
            "\n",
            "4. **Compatibility Updates**: Version 7.0 includes updates to ensure compatibility with the latest versions of Python and other dependencies.\n",
            "\n",
            "5. **Bug Fixes and Stability Improvements**: This version also addresses several bugs from previous versions, enhancing overall stability and user experience.\n",
            "\n",
            "This release marks a significant step forward for developers working with vector databases in Pinecone, providing them with more powerful tools and better support.\n",
            "\n"
          ]
        }
      ],
      "source": [
        "print(answer.content)"
      ]
    },
    {
      "cell_type": "markdown",
      "metadata": {
        "id": "VfoCsOzaHD74"
      },
      "source": [
        "## Wrapping up\n",
        "\n",
        "And that's that! You've successfully implemented retrieval augmented generation with Pinecone, OpenAI and LangChain. Wanna learn more? Try implementing the following:\n",
        "\n",
        "- Sparse search to enable precise time, date and feature recognition in query results\n",
        "- Expanding the set of documents to encompass all Pinecone documentaiotn\n",
        "- Learning how to chunk and process code data, to build your own code assistant\n",
        "\n",
        "To finish, let's delete our index:"
      ]
    },
    {
      "cell_type": "code",
      "execution_count": 19,
      "metadata": {
        "id": "PpJp-xExFeLa"
      },
      "outputs": [],
      "source": [
        "pc.delete_index(name=index_name)"
      ]
    },
    {
      "cell_type": "markdown",
      "metadata": {
        "id": "2kNh44bEFeLe"
      },
      "source": [
        "---"
      ]
    }
  ],
  "metadata": {
    "colab": {
      "provenance": [],
      "include_colab_link": true
    },
    "kernelspec": {
      "display_name": "Python 3 (ipykernel)",
      "language": "python",
      "name": "python3"
    },
    "language_info": {
      "codemirror_mode": {
        "name": "ipython",
        "version": 3
      },
      "file_extension": ".py",
      "mimetype": "text/x-python",
      "name": "python",
      "nbconvert_exporter": "python",
      "pygments_lexer": "ipython3",
      "version": "3.11.9"
    },
    "vscode": {
      "interpreter": {
        "hash": "57376684f67c5d7b1589c855d7d0f1a1bdf8944ab1b903e711fdbf39434567bb"
      }
    }
  },
  "nbformat": 4,
  "nbformat_minor": 0
}